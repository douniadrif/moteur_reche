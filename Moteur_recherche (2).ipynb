{
 "cells": [
  {
   "cell_type": "code",
   "execution_count": 78,
   "metadata": {},
   "outputs": [],
   "source": [
    "# les documents \n",
    "def readtext(file):\n",
    "    f=open(file,'r',encoding=\"iso-8859-1\")\n",
    "    s=f.read()\n",
    "    s.upper()\n",
    "    \n"
   ]
  },
  {
   "cell_type": "code",
   "execution_count": 79,
   "metadata": {},
   "outputs": [
    {
     "name": "stdout",
     "output_type": "stream",
     "text": [
      "Une crise économique est une dégradation brutale de la situation économique et des perspectives économiques. Son étendue sectorielle, temporelle et géographique peut aller d' un seul secteur d' une seule région pour une brève période à l' ensemble de l' économie mondiale pendant plusieurs années ; on parlera alors de ralentissement économique ou, plus grave, de récession économique. Une telle crise comporte souvent (mais pas systématiquement) des répercussions sur le niveau des salaires et la valeur du capital (valeurs boursières), provoque des faillites et du chômage, accroît les tensions sociales et politiques, et peut même avoir des répercussions sanitaires.\n",
      "C' est du petit marché des subprimes, du nom de ces crédits hypothécaires américains risqués, que tout est parti. Parce que des banquiers ont octroyé des crédits immobiliers à des ménages aux revenus très modestes peu solvables en calculant leur capacité d'  emprunt sur la valeur de la maison achetée. Tant que les prix immobiliers progressaient ce système fonctionnait. Mais lorsque l'  immobilier a commencé à se replier aux Etats-Unis en 2007, l'  effet pervers de cette mécanique s'  est enclenché. Les ménages n'  ont plus été capables de rembourser leurs emprunts, et les établissements de crédit qui les avait accordés se sont effondrés. La crise s'  est ensuite diffusée à tout le système financier par le canal de la titrisation, cette technique née dans les années 1970 consistant à transformer des prêts bancaires en obligations achetées par les investisseurs du monde entier.\n",
      "La crise, au sens strict, est le processus de retournement de l'  activité économique (quantités de biens et services produits) ; cette crise débouche sur une récessions qui peut, elle-même, se transformer en dépression qui correspond à  une baisse profonde et durable de l'  activité économique.\n",
      "Toutefois, au sens large et courant du terme, on oppose la crise à la croissance : elle comprend donc aussi la période de récession.\n",
      "Parfois même, un simple ralentissement de l'  activité économique est qualifié de \"crise\" notamment s'  il a des conséquences négatives pour les travailleurs sur le marché du travail.\n",
      "Enfin, à court terme (quelques mois, un ou deux ans), les économistes parlent de crise ou de récession (terme souvent utilisé par l'  INSEE) si l'  activité économique baisse durant au moins 2 trimestres de suite.\n",
      "Les mathématiques (ou la mathématique) sont un ensemble de connaissances abstraites résultant de raisonnements logiques appliqués à des objets divers tels que les nombres, les formes, les structures et les transformations. Les mathématiques sont aussi le domaine de recherche développant ces connaissances, ainsi que la discipline qui les enseigne.\n",
      "Elles possèdent plusieurs branches telles que : l' arithmétique, l' algèbre, l' analyse, la géométrie, la logique mathématique, etc. Il existe également une certaine séparation entre les mathématiques pures et les mathématiques appliquées.\n",
      "Les mathématiques se distinguent des autres sciences par un rapport particulier au réel car l' observation et l' expérience ne s' y portent pas sur des objets physiques. Elles sont de nature entièrement intellectuelle, fondées sur des axiomes déclarés vrais ou sur des postulats provisoirement admis. Ces axiomes en constituent les fondements et ne dépendent donc d' aucune autre proposition. Un énoncé mathématique  dénommé généralement, après être validé, théorème, proposition, lemme, fait, scholie ou corollaire  est considéré comme valide lorsque le discours formel qui établit sa vérité respecte une certaine structure rationnelle appelée démonstration, ou raisonnement logico-déductif. Un énoncé présenté comme plausible, mais qui n' a pas encore été établi comme vrai (\"démontré\", en langage utilisé par les mathématiciens), s' appelle une conjecture.\n",
      "Bien que les résultats mathématiques soient des vérités purement formelles, ils trouvent cependant des applications dans les autres sciences et dans différents domaines de la technique. C' est ainsi qu' Eugene Wigner parle de la déraisonnable efficacité des mathématiques dans les sciences de la nature.\n",
      "La musique est un art et une activité culturelle consistant à combiner sons et silences au cours du temps. Les ingrédients principaux sont le rythme (façon de combiner les sons dans le temps), la hauteur (combinaison dans les fréquences), les nuances et le timbre.\n",
      "La musique donne lieu à des créations (des uvres d' art crées par des compositeurs), des représentations. Elle utilise certaines règles ou systèmes de composition, des plus simples aux plus complexes (souvent les notes de musique, les gammes et autres). Elle peut utiliser des objets divers, le corps, la voix, mais aussi des instruments de musique spécialement conçus, et de plus en plus tous les sons (concrets, de synthèses, abstraits, etc.).\n",
      "La musique a existé dans toutes les sociétés humaines, depuis la Préhistoire. Elle est à la fois forme d' expression individuelle (notamment l' expression des sentiments), source de rassemblement collectif et de plaisir (fête, chant, danse) et symbole d' une communauté culturelle, nationale ou spirituelle (hymne national, musique traditionnelle, musique folklorique, musique religieuse, musique militaire, etc.).\n"
     ]
    }
   ],
   "source": [
    "from os import chdir\n",
    "chdir('/Users/macosx/Desktop/S3-S4/S5/moteur de recherche/SRD/Corpus')\n",
    "def contenu(a):\n",
    "    f=open(a,'r',encoding=\"iso-8859-1\")\n",
    "    s=f.read()\n",
    "    f.close()\n",
    "    return(s)\n",
    "\n",
    "\n",
    "\n",
    "import os\n",
    "L=os.listdir('/Users/macosx/Desktop/S3-S4/S5/moteur de recherche/SRD/Corpus')\n",
    "for i in L:\n",
    "    print(contenu(i))"
   ]
  },
  {
   "cell_type": "code",
   "execution_count": 142,
   "metadata": {},
   "outputs": [],
   "source": [
    "import string\n",
    "def analyse(doc):\n",
    "    y=doc.translate(str.maketrans({a:None for a in string.punctuation}))\n",
    "    return(y)"
   ]
  },
  {
   "cell_type": "code",
   "execution_count": 197,
   "metadata": {},
   "outputs": [],
   "source": [
    "def selection(chaine):\n",
    "    f=open('/Users/macosx/Desktop/S3-S4/S5/moteur de recherche/SRD/StopList.txt','r',encoding=\"iso-8859-1\")\n",
    "    u=f.read()\n",
    "    f=[]\n",
    "    e=\"\"\n",
    "    for i in chaine.split(' '):\n",
    "        if i in u.split(\"\\n\") or i==\" \" or i=='' or i==\"l'\" or i=='l'or i==\"d' \" or i==\"d'\" or i==\"un\" or i==\"une\":\n",
    "            e=e+i\n",
    "        else:\n",
    "            f.append(i)\n",
    "           \n",
    "   \n",
    "    return(f) "
   ]
  },
  {
   "cell_type": "code",
   "execution_count": 236,
   "metadata": {},
   "outputs": [],
   "source": [
    "def selection1(chaine):\n",
    "    f=open('/Users/macosx/Desktop/S3-S4/S5/moteur de recherche/SRD/StopList1.txt','r',encoding=\"iso-8859-1\")\n",
    "    u=f.read()\n",
    "    f=[]\n",
    "    e=\"\"\n",
    "    for i in chaine.split(' '):\n",
    "        if i in u.split(\"\\n\") or i==\" \" or i=='' or i==\"l'\" or i=='l'or i==\"d' \" or i==\"d'\" or i==\"un\" or i==\"une\":\n",
    "            e=e+i\n",
    "        else:\n",
    "            f.append(i)\n",
    "           \n",
    "   \n",
    "    return(f) "
   ]
  },
  {
   "cell_type": "code",
   "execution_count": 237,
   "metadata": {},
   "outputs": [],
   "source": [
    "def CountFrequency(my_list): \n",
    "      \n",
    "   # Creating an empty dictionary  \n",
    "   count = {} \n",
    "   for i in my_list: \n",
    "    count[i] = count.get(i, 0) + 1\n",
    "   return count \n",
    "  \n"
   ]
  },
  {
   "cell_type": "code",
   "execution_count": 238,
   "metadata": {},
   "outputs": [],
   "source": [
    "def analysefinal(doc):\n",
    "    chaine = contenu(doc)\n",
    "    chaine1= analyse(chaine)\n",
    "    chaine1 = selection(chaine)\n",
    "    chaine2=CountFrequency(chaine1)\n",
    "    return (chaine2)\n"
   ]
  },
  {
   "cell_type": "code",
   "execution_count": 240,
   "metadata": {},
   "outputs": [
    {
     "name": "stdout",
     "output_type": "stream",
     "text": [
      "{'Une': 2, 'crise': 2, 'économique': 3, 'dégradation': 1, 'brutale': 1, 'situation': 1, 'perspectives': 1, 'économiques.': 1, 'Son': 1, 'étendue': 1, 'sectorielle,': 1, 'temporelle': 1, 'géographique': 1, 'aller': 1, 'seul': 1, 'secteur': 1, 'seule': 1, 'région': 1, 'brève': 1, 'période': 1, 'ensemble': 1, 'économie': 1, 'mondiale': 1, 'plusieurs': 1, 'années': 1, ';': 1, 'parlera': 1, 'ralentissement': 1, 'ou,': 1, 'grave,': 1, 'récession': 1, 'économique.': 1, 'telle': 1, 'comporte': 1, '(mais': 1, 'systématiquement)': 1, 'répercussions': 2, 'niveau': 1, 'salaires': 1, 'valeur': 1, 'capital': 1, '(valeurs': 1, 'boursières),': 1, 'provoque': 1, 'faillites': 1, 'chômage,': 1, 'accroît': 1, 'tensions': 1, 'sociales': 1, 'politiques,': 1, 'sanitaires.': 1}\n"
     ]
    }
   ],
   "source": [
    "a=analysefinal(L[0])\n",
    "print(a)"
   ]
  },
  {
   "cell_type": "code",
   "execution_count": null,
   "metadata": {},
   "outputs": [],
   "source": []
  },
  {
   "cell_type": "markdown",
   "metadata": {},
   "source": [
    "## Requete"
   ]
  },
  {
   "cell_type": "code",
   "execution_count": 408,
   "metadata": {},
   "outputs": [],
   "source": [
    "def analysefinalreq(Req):\n",
    "\n",
    "    chaine1= analyse((Req))\n",
    "    chaine2 = selection(chaine1)\n",
    "    return (chaine2)\n",
    "    print(type(chaine2))\n",
    "\n"
   ]
  },
  {
   "cell_type": "code",
   "execution_count": null,
   "metadata": {},
   "outputs": [],
   "source": []
  },
  {
   "cell_type": "code",
   "execution_count": 571,
   "metadata": {},
   "outputs": [],
   "source": [
    "def listrequete (x,requete):\n",
    "    flag = False\n",
    "    s=[]\n",
    "    \n",
    "    for i in requete:\n",
    "        if i in x.keys() :\n",
    "            flag = True\n",
    "            s.append(x[i])\n",
    "        else :\n",
    "            flag = False\n",
    "            s.append(0)      \n",
    "    return s   \n",
    "    #print(flag)\n",
    "   \n",
    "  \n",
    " #   if flag == True :\n",
    " #   print(contenu(L[0]))\n",
    "    \n",
    "\n",
    "        "
   ]
  },
  {
   "cell_type": "code",
   "execution_count": 680,
   "metadata": {},
   "outputs": [],
   "source": [
    "import pandas as pd \n",
    "def matrice (L,requete):\n",
    "    alist=[]\n",
    "    blist=[]\n",
    "    clist=[]\n",
    "    somme=0\n",
    "    for i in range(0,len(L)):\n",
    "        first = analysefinal(L[i])\n",
    "        req=analysefinalreq(requete)\n",
    "        second = (listrequete(first,req))\n",
    "        \n",
    "        alist.append(second)\n",
    "        df = pd.DataFrame(alist)\n",
    "        x=df.loc[i]\n",
    "        \n",
    "        for j in x :\n",
    "                #blist.append(sum(x))\n",
    "                somme = somme+j\n",
    "        blist.append(sum(x))\n",
    "    #print(df)\n",
    "            #print(df.loc[i])\n",
    "    #print(blist)\n",
    "    \n",
    "    #bblist = sorted(blist, reverse=True)\n",
    "    \n",
    "    for j in range(0,len(blist)-1) :\n",
    "        if blist[j] != 0 :\n",
    "            clist.append(L[j])\n",
    "       \n",
    "    #print(clist)\n",
    "    \n",
    "    for i in clist : \n",
    "        print( \"article \",i, \": \" , \"\\n\", \"\\n\" , contenu(i),\"\\n\" , \"\\n\" , \"\\n\")\n",
    "    \n",
    "    #for x in bblist :\n",
    "     #   print(L[i])\n",
    "    #print(bblist)\n",
    " "
   ]
  },
  {
   "cell_type": "code",
   "execution_count": 681,
   "metadata": {},
   "outputs": [
    {
     "name": "stdout",
     "output_type": "stream",
     "text": [
      "article  document_3.txt :  \n",
      " \n",
      " Une crise économique est une dégradation brutale de la situation économique et des perspectives économiques. Son étendue sectorielle, temporelle et géographique peut aller d' un seul secteur d' une seule région pour une brève période à l' ensemble de l' économie mondiale pendant plusieurs années ; on parlera alors de ralentissement économique ou, plus grave, de récession économique. Une telle crise comporte souvent (mais pas systématiquement) des répercussions sur le niveau des salaires et la valeur du capital (valeurs boursières), provoque des faillites et du chômage, accroît les tensions sociales et politiques, et peut même avoir des répercussions sanitaires. \n",
      " \n",
      " \n",
      "\n",
      "article  document_2.txt :  \n",
      " \n",
      " C' est du petit marché des subprimes, du nom de ces crédits hypothécaires américains risqués, que tout est parti. Parce que des banquiers ont octroyé des crédits immobiliers à des ménages aux revenus très modestes peu solvables en calculant leur capacité d'  emprunt sur la valeur de la maison achetée. Tant que les prix immobiliers progressaient ce système fonctionnait. Mais lorsque l'  immobilier a commencé à se replier aux Etats-Unis en 2007, l'  effet pervers de cette mécanique s'  est enclenché. Les ménages n'  ont plus été capables de rembourser leurs emprunts, et les établissements de crédit qui les avait accordés se sont effondrés. La crise s'  est ensuite diffusée à tout le système financier par le canal de la titrisation, cette technique née dans les années 1970 consistant à transformer des prêts bancaires en obligations achetées par les investisseurs du monde entier. \n",
      " \n",
      " \n",
      "\n",
      "article  document_1.txt :  \n",
      " \n",
      " La crise, au sens strict, est le processus de retournement de l'  activité économique (quantités de biens et services produits) ; cette crise débouche sur une récessions qui peut, elle-même, se transformer en dépression qui correspond à  une baisse profonde et durable de l'  activité économique.\n",
      "Toutefois, au sens large et courant du terme, on oppose la crise à la croissance : elle comprend donc aussi la période de récession.\n",
      "Parfois même, un simple ralentissement de l'  activité économique est qualifié de \"crise\" notamment s'  il a des conséquences négatives pour les travailleurs sur le marché du travail.\n",
      "Enfin, à court terme (quelques mois, un ou deux ans), les économistes parlent de crise ou de récession (terme souvent utilisé par l'  INSEE) si l'  activité économique baisse durant au moins 2 trimestres de suite. \n",
      " \n",
      " \n",
      "\n",
      "None\n"
     ]
    }
   ],
   "source": [
    "Req =\"la de un une crise  ou théorème  sauf de répercussions ?aaa sauf ,,\"\n",
    "\n",
    "\n",
    "print(matrice(L,Req))"
   ]
  },
  {
   "cell_type": "code",
   "execution_count": 577,
   "metadata": {},
   "outputs": [
    {
     "ename": "SyntaxError",
     "evalue": "'return' outside function (<ipython-input-577-89720b91ec93>, line 7)",
     "output_type": "error",
     "traceback": [
      "\u001b[0;36m  File \u001b[0;32m\"<ipython-input-577-89720b91ec93>\"\u001b[0;36m, line \u001b[0;32m7\u001b[0m\n\u001b[0;31m    return max(i)\u001b[0m\n\u001b[0m    ^\u001b[0m\n\u001b[0;31mSyntaxError\u001b[0m\u001b[0;31m:\u001b[0m 'return' outside function\n"
     ]
    }
   ],
   "source": [
    "\n",
    "        \n"
   ]
  },
  {
   "cell_type": "code",
   "execution_count": 569,
   "metadata": {},
   "outputs": [
    {
     "ename": "NameError",
     "evalue": "name 'document_4' is not defined",
     "output_type": "error",
     "traceback": [
      "\u001b[0;31m---------------------------------------------------------------------------\u001b[0m",
      "\u001b[0;31mNameError\u001b[0m                                 Traceback (most recent call last)",
      "\u001b[0;32m<ipython-input-569-2476dfc5f396>\u001b[0m in \u001b[0;36m<module>\u001b[0;34m\u001b[0m\n\u001b[1;32m      1\u001b[0m \u001b[0;34m[\u001b[0m\u001b[0;36m7\u001b[0m\u001b[0;34m,\u001b[0m \u001b[0;36m1\u001b[0m\u001b[0;34m,\u001b[0m \u001b[0;36m6\u001b[0m\u001b[0;34m,\u001b[0m \u001b[0;36m0\u001b[0m\u001b[0;34m,\u001b[0m \u001b[0;36m0\u001b[0m\u001b[0;34m]\u001b[0m\u001b[0;34m\u001b[0m\u001b[0;34m\u001b[0m\u001b[0m\n\u001b[0;32m----> 2\u001b[0;31m \u001b[0mdocument_4\u001b[0m\u001b[0;34m.\u001b[0m\u001b[0mtxt\u001b[0m\u001b[0;34m\u001b[0m\u001b[0;34m\u001b[0m\u001b[0m\n\u001b[0m\u001b[1;32m      3\u001b[0m \u001b[0mdocument_4\u001b[0m\u001b[0;34m.\u001b[0m\u001b[0mtxt\u001b[0m\u001b[0;34m\u001b[0m\u001b[0;34m\u001b[0m\u001b[0m\n\u001b[1;32m      4\u001b[0m \u001b[0mdocument_4\u001b[0m\u001b[0;34m.\u001b[0m\u001b[0mtxt\u001b[0m\u001b[0;34m\u001b[0m\u001b[0;34m\u001b[0m\u001b[0m\n\u001b[1;32m      5\u001b[0m \u001b[0mdocument_4\u001b[0m\u001b[0;34m.\u001b[0m\u001b[0mtxt\u001b[0m\u001b[0;34m\u001b[0m\u001b[0;34m\u001b[0m\u001b[0m\n",
      "\u001b[0;31mNameError\u001b[0m: name 'document_4' is not defined"
     ]
    }
   ],
   "source": [
    "[7, 1, 6, 0, 0]\n",
    "document_4.txt\n",
    "document_4.txt\n",
    "document_4.txt\n",
    "document_4.txt\n",
    "document_4.txt\n",
    "None\n",
    "\n",
    "i = sum ([2, 3, 0, 2, 0])\n",
    "i"
   ]
  },
  {
   "cell_type": "code",
   "execution_count": 570,
   "metadata": {},
   "outputs": [
    {
     "ename": "TypeError",
     "evalue": "object of type 'NoneType' has no len()",
     "output_type": "error",
     "traceback": [
      "\u001b[0;31m---------------------------------------------------------------------------\u001b[0m",
      "\u001b[0;31mTypeError\u001b[0m                                 Traceback (most recent call last)",
      "\u001b[0;32m<ipython-input-570-bbb70728dd3a>\u001b[0m in \u001b[0;36m<module>\u001b[0;34m\u001b[0m\n\u001b[0;32m----> 1\u001b[0;31m \u001b[0;32mfor\u001b[0m \u001b[0mi\u001b[0m \u001b[0;32min\u001b[0m \u001b[0mrange\u001b[0m \u001b[0;34m(\u001b[0m\u001b[0;36m0\u001b[0m\u001b[0;34m,\u001b[0m\u001b[0mlen\u001b[0m\u001b[0;34m(\u001b[0m\u001b[0mM\u001b[0m\u001b[0;34m)\u001b[0m\u001b[0;34m-\u001b[0m\u001b[0;36m1\u001b[0m\u001b[0;34m)\u001b[0m\u001b[0;34m:\u001b[0m\u001b[0;34m\u001b[0m\u001b[0;34m\u001b[0m\u001b[0m\n\u001b[0m\u001b[1;32m      2\u001b[0m     \u001b[0;31m#(for i in matrice(L,Req):\u001b[0m\u001b[0;34m\u001b[0m\u001b[0;34m\u001b[0m\u001b[0;34m\u001b[0m\u001b[0m\n\u001b[1;32m      3\u001b[0m     \u001b[0ml\u001b[0m\u001b[0;34m=\u001b[0m\u001b[0;34m[\u001b[0m\u001b[0;34m]\u001b[0m\u001b[0;34m\u001b[0m\u001b[0;34m\u001b[0m\u001b[0m\n\u001b[1;32m      4\u001b[0m     \u001b[0ml\u001b[0m\u001b[0;34m.\u001b[0m\u001b[0mappend\u001b[0m\u001b[0;34m(\u001b[0m\u001b[0mM\u001b[0m\u001b[0;34m[\u001b[0m\u001b[0mi\u001b[0m\u001b[0;34m]\u001b[0m\u001b[0;34m)\u001b[0m\u001b[0;34m\u001b[0m\u001b[0;34m\u001b[0m\u001b[0m\n",
      "\u001b[0;31mTypeError\u001b[0m: object of type 'NoneType' has no len()"
     ]
    }
   ],
   "source": [
    "\n",
    "for i in range (0,len(M)-1):\n",
    "    #(for i in matrice(L,Req):\n",
    "    l=[]\n",
    "    l.append(M[i])"
   ]
  },
  {
   "cell_type": "code",
   "execution_count": null,
   "metadata": {},
   "outputs": [],
   "source": []
  },
  {
   "cell_type": "code",
   "execution_count": null,
   "metadata": {},
   "outputs": [],
   "source": []
  },
  {
   "cell_type": "code",
   "execution_count": null,
   "metadata": {},
   "outputs": [],
   "source": []
  },
  {
   "cell_type": "code",
   "execution_count": null,
   "metadata": {},
   "outputs": [],
   "source": [
    "Req =\"la de un une crise et économiques ou théorème  sauf de répercussions ?aaa sauf ,,\"\n",
    "requete1 = analysefinalreq(Req)\n",
    "print(requete1)"
   ]
  },
  {
   "cell_type": "code",
   "execution_count": 255,
   "metadata": {},
   "outputs": [],
   "source": [
    "requete=['économique', 'crise', 'répercussions']"
   ]
  },
  {
   "cell_type": "code",
   "execution_count": 267,
   "metadata": {},
   "outputs": [
    {
     "name": "stdout",
     "output_type": "stream",
     "text": [
      "[3, 2, 2]\n",
      "['crise', 'économique', 'théorème', 'répercussions', 'aaa']\n",
      "[2, 3, 0, 2, 0]\n"
     ]
    }
   ],
   "source": [
    "print(listrequete(a,requete))\n",
    "\n",
    "Req =\"la de un une crise et économique ou théorème  sauf de répercussions ?aaa sauf ,,\"\n",
    "requete1 = analysefinalreq(Req)\n",
    "print(requete1)\n",
    "print(listrequete(a,requete1))\n"
   ]
  },
  {
   "cell_type": "code",
   "execution_count": null,
   "metadata": {},
   "outputs": [],
   "source": []
  },
  {
   "cell_type": "code",
   "execution_count": 310,
   "metadata": {},
   "outputs": [],
   "source": [
    "def matrice (L,requete):\n",
    "    for i in range(0,len(L)):\n",
    "        first = analysefinal(L[i])\n",
    "        req=analysefinalreq(requete)\n",
    "        second = listrequete(first,req)\n",
    "        print(second)\n",
    "    \n",
    "    "
   ]
  },
  {
   "cell_type": "code",
   "execution_count": 311,
   "metadata": {},
   "outputs": [
    {
     "ename": "AttributeError",
     "evalue": "'list' object has no attribute 'translate'",
     "output_type": "error",
     "traceback": [
      "\u001b[0;31m---------------------------------------------------------------------------\u001b[0m",
      "\u001b[0;31mAttributeError\u001b[0m                            Traceback (most recent call last)",
      "\u001b[0;32m<ipython-input-311-70620b9ecaf7>\u001b[0m in \u001b[0;36m<module>\u001b[0;34m\u001b[0m\n\u001b[0;32m----> 1\u001b[0;31m \u001b[0mmatrice\u001b[0m\u001b[0;34m(\u001b[0m\u001b[0mL\u001b[0m\u001b[0;34m,\u001b[0m\u001b[0mrequete\u001b[0m\u001b[0;34m)\u001b[0m\u001b[0;34m\u001b[0m\u001b[0;34m\u001b[0m\u001b[0m\n\u001b[0m\u001b[1;32m      2\u001b[0m \u001b[0mmatrice\u001b[0m\u001b[0;34m(\u001b[0m\u001b[0mL\u001b[0m\u001b[0;34m,\u001b[0m\u001b[0mrequete1\u001b[0m\u001b[0;34m)\u001b[0m\u001b[0;34m\u001b[0m\u001b[0;34m\u001b[0m\u001b[0m\n",
      "\u001b[0;32m<ipython-input-310-41067e287bb4>\u001b[0m in \u001b[0;36mmatrice\u001b[0;34m(L, requete)\u001b[0m\n\u001b[1;32m      2\u001b[0m     \u001b[0;32mfor\u001b[0m \u001b[0mi\u001b[0m \u001b[0;32min\u001b[0m \u001b[0mrange\u001b[0m\u001b[0;34m(\u001b[0m\u001b[0;36m0\u001b[0m\u001b[0;34m,\u001b[0m\u001b[0mlen\u001b[0m\u001b[0;34m(\u001b[0m\u001b[0mL\u001b[0m\u001b[0;34m)\u001b[0m\u001b[0;34m)\u001b[0m\u001b[0;34m:\u001b[0m\u001b[0;34m\u001b[0m\u001b[0;34m\u001b[0m\u001b[0m\n\u001b[1;32m      3\u001b[0m         \u001b[0mfirst\u001b[0m \u001b[0;34m=\u001b[0m \u001b[0manalysefinal\u001b[0m\u001b[0;34m(\u001b[0m\u001b[0mL\u001b[0m\u001b[0;34m[\u001b[0m\u001b[0mi\u001b[0m\u001b[0;34m]\u001b[0m\u001b[0;34m)\u001b[0m\u001b[0;34m\u001b[0m\u001b[0;34m\u001b[0m\u001b[0m\n\u001b[0;32m----> 4\u001b[0;31m         \u001b[0mreq\u001b[0m\u001b[0;34m=\u001b[0m\u001b[0manalysefinalreq\u001b[0m\u001b[0;34m(\u001b[0m\u001b[0mrequete\u001b[0m\u001b[0;34m)\u001b[0m\u001b[0;34m\u001b[0m\u001b[0;34m\u001b[0m\u001b[0m\n\u001b[0m\u001b[1;32m      5\u001b[0m         \u001b[0msecond\u001b[0m \u001b[0;34m=\u001b[0m \u001b[0mlistrequete\u001b[0m\u001b[0;34m(\u001b[0m\u001b[0mfirst\u001b[0m\u001b[0;34m,\u001b[0m\u001b[0mreq\u001b[0m\u001b[0;34m)\u001b[0m\u001b[0;34m\u001b[0m\u001b[0;34m\u001b[0m\u001b[0m\n\u001b[1;32m      6\u001b[0m         \u001b[0mprint\u001b[0m\u001b[0;34m(\u001b[0m\u001b[0msecond\u001b[0m\u001b[0;34m)\u001b[0m\u001b[0;34m\u001b[0m\u001b[0;34m\u001b[0m\u001b[0m\n",
      "\u001b[0;32m<ipython-input-241-41c0338b2874>\u001b[0m in \u001b[0;36manalysefinalreq\u001b[0;34m(Req)\u001b[0m\n\u001b[1;32m      1\u001b[0m \u001b[0;32mdef\u001b[0m \u001b[0manalysefinalreq\u001b[0m\u001b[0;34m(\u001b[0m\u001b[0mReq\u001b[0m\u001b[0;34m)\u001b[0m\u001b[0;34m:\u001b[0m\u001b[0;34m\u001b[0m\u001b[0;34m\u001b[0m\u001b[0m\n\u001b[1;32m      2\u001b[0m \u001b[0;34m\u001b[0m\u001b[0m\n\u001b[0;32m----> 3\u001b[0;31m     \u001b[0mchaine1\u001b[0m\u001b[0;34m=\u001b[0m \u001b[0manalyse\u001b[0m\u001b[0;34m(\u001b[0m\u001b[0;34m(\u001b[0m\u001b[0mReq\u001b[0m\u001b[0;34m)\u001b[0m\u001b[0;34m)\u001b[0m\u001b[0;34m\u001b[0m\u001b[0;34m\u001b[0m\u001b[0m\n\u001b[0m\u001b[1;32m      4\u001b[0m     \u001b[0mchaine2\u001b[0m \u001b[0;34m=\u001b[0m \u001b[0mselection\u001b[0m\u001b[0;34m(\u001b[0m\u001b[0mchaine1\u001b[0m\u001b[0;34m)\u001b[0m\u001b[0;34m\u001b[0m\u001b[0;34m\u001b[0m\u001b[0m\n\u001b[1;32m      5\u001b[0m     \u001b[0;32mreturn\u001b[0m \u001b[0;34m(\u001b[0m\u001b[0mchaine2\u001b[0m\u001b[0;34m)\u001b[0m\u001b[0;34m\u001b[0m\u001b[0;34m\u001b[0m\u001b[0m\n",
      "\u001b[0;32m<ipython-input-142-0b7dcd79f15f>\u001b[0m in \u001b[0;36manalyse\u001b[0;34m(doc)\u001b[0m\n\u001b[1;32m      1\u001b[0m \u001b[0;32mimport\u001b[0m \u001b[0mstring\u001b[0m\u001b[0;34m\u001b[0m\u001b[0;34m\u001b[0m\u001b[0m\n\u001b[1;32m      2\u001b[0m \u001b[0;32mdef\u001b[0m \u001b[0manalyse\u001b[0m\u001b[0;34m(\u001b[0m\u001b[0mdoc\u001b[0m\u001b[0;34m)\u001b[0m\u001b[0;34m:\u001b[0m\u001b[0;34m\u001b[0m\u001b[0;34m\u001b[0m\u001b[0m\n\u001b[0;32m----> 3\u001b[0;31m     \u001b[0my\u001b[0m\u001b[0;34m=\u001b[0m\u001b[0mdoc\u001b[0m\u001b[0;34m.\u001b[0m\u001b[0mtranslate\u001b[0m\u001b[0;34m(\u001b[0m\u001b[0mstr\u001b[0m\u001b[0;34m.\u001b[0m\u001b[0mmaketrans\u001b[0m\u001b[0;34m(\u001b[0m\u001b[0;34m{\u001b[0m\u001b[0ma\u001b[0m\u001b[0;34m:\u001b[0m\u001b[0;32mNone\u001b[0m \u001b[0;32mfor\u001b[0m \u001b[0ma\u001b[0m \u001b[0;32min\u001b[0m \u001b[0mstring\u001b[0m\u001b[0;34m.\u001b[0m\u001b[0mpunctuation\u001b[0m\u001b[0;34m}\u001b[0m\u001b[0;34m)\u001b[0m\u001b[0;34m)\u001b[0m\u001b[0;34m\u001b[0m\u001b[0;34m\u001b[0m\u001b[0m\n\u001b[0m\u001b[1;32m      4\u001b[0m     \u001b[0;32mreturn\u001b[0m\u001b[0;34m(\u001b[0m\u001b[0my\u001b[0m\u001b[0;34m)\u001b[0m\u001b[0;34m\u001b[0m\u001b[0;34m\u001b[0m\u001b[0m\n",
      "\u001b[0;31mAttributeError\u001b[0m: 'list' object has no attribute 'translate'"
     ]
    }
   ],
   "source": [
    "matrice(L,requete)\n",
    "matrice(L,requete1)"
   ]
  },
  {
   "cell_type": "code",
   "execution_count": 227,
   "metadata": {},
   "outputs": [
    {
     "name": "stdout",
     "output_type": "stream",
     "text": [
      "['crise', 'économiques', 'théorème', 'répercussions', 'aaa']\n"
     ]
    }
   ],
   "source": [
    "\n",
    "#requete1 = list(Req.split(\" \"))\n",
    "#print(requete1)\n",
    "\n",
    "Req =\"la de un une crise et économiques ou théorème  sauf de répercussions ?aaa sauf ,,\"\n",
    "requete1 = analysefinalreq(Req)\n",
    "print(requete1)"
   ]
  },
  {
   "cell_type": "code",
   "execution_count": 230,
   "metadata": {},
   "outputs": [
    {
     "name": "stdout",
     "output_type": "stream",
     "text": [
      "[2, 0, 0, 2, 0]\n",
      "[1, 0, 0, 0, 0]\n",
      "[3, 0, 0, 0, 0]\n",
      "[0, 0, 0, 0, 0]\n",
      "[0, 0, 0, 0, 0]\n"
     ]
    }
   ],
   "source": [
    "for i in range(0,len(L)):\n",
    "    first = analysefinal(L[i])\n",
    "    second = listrequete(first,requete1)\n",
    "    print(second)\n",
    "    "
   ]
  },
  {
   "cell_type": "code",
   "execution_count": null,
   "metadata": {},
   "outputs": [],
   "source": []
  },
  {
   "cell_type": "code",
   "execution_count": 215,
   "metadata": {},
   "outputs": [
    {
     "name": "stdout",
     "output_type": "stream",
     "text": [
      "['aaa']\n",
      "[]\n",
      "[]\n"
     ]
    }
   ],
   "source": [
    "for i in range (0,len(requete1)-1):\n",
    "    Liste_requete_ET =[]\n",
    "    Liste_requete_OU =[]\n",
    "    Liste_requete_SAUF =[]\n",
    "    \n",
    "    if requete1[i][0] == \"-\" : \n",
    "        a= requete1[i+1]\n",
    "        Liste_requete_SAUF.append(a) \n",
    "      \n",
    "    elif requete1[i].upper() == \"ou\" :\n",
    "        Liste_requete_OU.append(requete1[i+1])\n",
    "        Liste_requete_OU.append(requete1[i-1]) \n",
    "        \n",
    "  \n",
    "        \n",
    "    else :\n",
    "        Liste_requete_ET.append(requete1[i]) \n",
    "        \n",
    "        \n",
    "print(Liste_requete_ET)\n",
    "print(Liste_requete_OU)\n",
    "print(Liste_requete_SAUF)"
   ]
  },
  {
   "cell_type": "code",
   "execution_count": null,
   "metadata": {},
   "outputs": [],
   "source": []
  },
  {
   "cell_type": "code",
   "execution_count": null,
   "metadata": {},
   "outputs": [],
   "source": [
    "def analysefinalreq(Req):\n",
    "    #chaine = contenu(Req)\n",
    "    chaine1= analyse(Req)\n",
    "    chaine2 = selection1(chaine1)\n",
    "    #chaine3=CountFrequency(chaine2)\n",
    "    return (chaine2)\n"
   ]
  },
  {
   "cell_type": "code",
   "execution_count": 101,
   "metadata": {},
   "outputs": [
    {
     "data": {
      "text/plain": [
       "['crise', 'économiques', 'sauf', 'répercussions', '?', ',,']"
      ]
     },
     "execution_count": 101,
     "metadata": {},
     "output_type": "execute_result"
    }
   ],
   "source": [
    "analysefinalreq(Req)"
   ]
  },
  {
   "cell_type": "code",
   "execution_count": null,
   "metadata": {},
   "outputs": [],
   "source": [
    "#requete elimination mots vide\n",
    "#upper , ponctuation ..\n",
    "# Amelioration de la requete avec OU ET SAUF \n",
    "# la similarité "
   ]
  },
  {
   "cell_type": "code",
   "execution_count": null,
   "metadata": {},
   "outputs": [],
   "source": [
    "import pandas as pd \n",
    "def matrice (L,requete):\n",
    "    alist=[]\n",
    "    blist=[]\n",
    "    somme=0\n",
    "    for i in range(0,len(L)):\n",
    "        first = analysefinal(L[i])\n",
    "        req=analysefinalreq(requete)\n",
    "        second = (listrequete(first,req))\n",
    "        \n",
    "        alist.append(second)\n",
    "        df = pd.DataFrame(alist)\n",
    "        x=df.loc[i]\n",
    "        \n",
    "        for j in x :\n",
    "                #blist.append(sum(x))\n",
    "                somme = somme+j\n",
    "        blist.append(sum(x))\n",
    "            #print(df)\n",
    "            #print(df.loc[i])\n",
    "    print(blist)\n",
    "    bblist = sorted(blist, reverse=True)\n",
    "    for x in bblist :\n",
    "        print(L[i])\n",
    "    #print(bblist)\n",
    " "
   ]
  }
 ],
 "metadata": {
  "kernelspec": {
   "display_name": "Python 3",
   "language": "python",
   "name": "python3"
  },
  "language_info": {
   "codemirror_mode": {
    "name": "ipython",
    "version": 3
   },
   "file_extension": ".py",
   "mimetype": "text/x-python",
   "name": "python",
   "nbconvert_exporter": "python",
   "pygments_lexer": "ipython3",
   "version": "3.8.5"
  }
 },
 "nbformat": 4,
 "nbformat_minor": 4
}
