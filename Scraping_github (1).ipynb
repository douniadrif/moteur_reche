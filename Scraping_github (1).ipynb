{
 "cells": [
  {
   "cell_type": "code",
   "execution_count": 1,
   "metadata": {},
   "outputs": [],
   "source": [
    "#\n",
    "# Stack Overflow questions scraper\n",
    "#\n",
    "\n",
    "# Libraries\n",
    "import json\n",
    "import requests\n",
    "from bs4 import BeautifulSoup\n",
    "\n",
    "# Base url\n",
    "start_url = 'https://stackoverflow.com/questions?tab=newest&page='\n",
    "\n",
    "# Loop over Stack Overflow questions' pages\n",
    "for page_num in range(1,60):\n",
    "    # get next page url\n",
    "    url = start_url + str(page_num)\n",
    "    \n",
    "    # make HTTP GET request to the given url\n",
    "    response = requests.get(url)\n",
    "    \n",
    "    # parse content\n",
    "    content = BeautifulSoup(response.text, 'lxml')\n",
    "\n",
    "    # extract question links\n",
    "    links = content.findAll('a', {'class': 'question-hyperlink'})\n",
    "\n",
    "    # extract question description\n",
    "    description = content.findAll('div', {'class': 'excerpt'})\n",
    "    \n",
    "    #print('\\n\\nURL:', url)\n",
    "    \n",
    "    data = []    \n",
    "\n",
    "    # loop over Stack Overflow question list\n",
    "    for index in range(0, len(description)):\n",
    "        # store items in dict\n",
    "        question = {\n",
    "            'title': links[index].text,\n",
    "            'url': links[index]['href'],\n",
    "            'description': description[index].text.strip().replace('\\n', '')\n",
    "        }\n",
    "            \n",
    "   \n",
    " \n",
    "        \n",
    "    #    df['title'] = links[index].text\n",
    "        #df['url'] =  links[index]['href']\n",
    "        #df['description'] = description[index].text.strip().replace('\\n', '')\n",
    "    \n",
    "        data.append(question)\n",
    "\n",
    "import json\n",
    "with open('/Users/macosx/Downloads/github_question.json', 'w', encoding='utf-8') as f:\n",
    "    json.dump(data, f, ensure_ascii=False, indent=4)\n",
    "     \n",
    "\n",
    "        \n",
    "        \n",
    "  "
   ]
  },
  {
   "cell_type": "code",
   "execution_count": 2,
   "metadata": {},
   "outputs": [],
   "source": [
    "import pandas as pd\n",
    "df = pd.read_json ('/Users/macosx/Downloads/github_question.json')\n",
    "df.to_csv ('/Users/macosx/Downloads/github_question.csv', index = None)\n"
   ]
  },
  {
   "cell_type": "code",
   "execution_count": 64,
   "metadata": {},
   "outputs": [
    {
     "data": {
      "text/html": [
       "<div>\n",
       "<style scoped>\n",
       "    .dataframe tbody tr th:only-of-type {\n",
       "        vertical-align: middle;\n",
       "    }\n",
       "\n",
       "    .dataframe tbody tr th {\n",
       "        vertical-align: top;\n",
       "    }\n",
       "\n",
       "    .dataframe thead th {\n",
       "        text-align: right;\n",
       "    }\n",
       "</style>\n",
       "<table border=\"1\" class=\"dataframe\">\n",
       "  <thead>\n",
       "    <tr style=\"text-align: right;\">\n",
       "      <th></th>\n",
       "      <th>title</th>\n",
       "      <th>url</th>\n",
       "      <th>description</th>\n",
       "    </tr>\n",
       "  </thead>\n",
       "  <tbody>\n",
       "    <tr>\n",
       "      <th>0</th>\n",
       "      <td>How to make columns align horizontally OR vert...</td>\n",
       "      <td>/questions/65457982/how-to-make-columns-align-...</td>\n",
       "      <td>I have a following setup -\\r\\r.left {  height:...</td>\n",
       "    </tr>\n",
       "    <tr>\n",
       "      <th>1</th>\n",
       "      <td>Why my debounce functionality is not working i...</td>\n",
       "      <td>/questions/65457979/why-my-debounce-functional...</td>\n",
       "      <td>My goal is to fire a fetch request to get data...</td>\n",
       "    </tr>\n",
       "    <tr>\n",
       "      <th>2</th>\n",
       "      <td>Adding new version of PHP to MAMP</td>\n",
       "      <td>/questions/65457976/adding-new-version-of-php-...</td>\n",
       "      <td>I'm using MAMP PRO 4.5, bought it couple of ye...</td>\n",
       "    </tr>\n",
       "    <tr>\n",
       "      <th>3</th>\n",
       "      <td>Merge two list of Streams into one</td>\n",
       "      <td>/questions/65457975/merge-two-list-of-streams-...</td>\n",
       "      <td>The problem is I have a post collection and a ...</td>\n",
       "    </tr>\n",
       "    <tr>\n",
       "      <th>4</th>\n",
       "      <td>Replacement has 0 rows, data has 25 error</td>\n",
       "      <td>/questions/65457968/replacement-has-0-rows-dat...</td>\n",
       "      <td>I'm trying to make a list containing 25 differ...</td>\n",
       "    </tr>\n",
       "  </tbody>\n",
       "</table>\n",
       "</div>"
      ],
      "text/plain": [
       "                                               title  \\\n",
       "0  How to make columns align horizontally OR vert...   \n",
       "1  Why my debounce functionality is not working i...   \n",
       "2                  Adding new version of PHP to MAMP   \n",
       "3                 Merge two list of Streams into one   \n",
       "4          Replacement has 0 rows, data has 25 error   \n",
       "\n",
       "                                                 url  \\\n",
       "0  /questions/65457982/how-to-make-columns-align-...   \n",
       "1  /questions/65457979/why-my-debounce-functional...   \n",
       "2  /questions/65457976/adding-new-version-of-php-...   \n",
       "3  /questions/65457975/merge-two-list-of-streams-...   \n",
       "4  /questions/65457968/replacement-has-0-rows-dat...   \n",
       "\n",
       "                                         description  \n",
       "0  I have a following setup -\\r\\r.left {  height:...  \n",
       "1  My goal is to fire a fetch request to get data...  \n",
       "2  I'm using MAMP PRO 4.5, bought it couple of ye...  \n",
       "3  The problem is I have a post collection and a ...  \n",
       "4  I'm trying to make a list containing 25 differ...  "
      ]
     },
     "execution_count": 64,
     "metadata": {},
     "output_type": "execute_result"
    }
   ],
   "source": [
    "df1=pd.read_csv('/Users/macosx/Downloads/github_question.csv')\n",
    "df1.head()"
   ]
  },
  {
   "cell_type": "code",
   "execution_count": 65,
   "metadata": {},
   "outputs": [
    {
     "data": {
      "text/plain": [
       "'Why my debounce functionality is not working in a React app with hooks?'"
      ]
     },
     "execution_count": 65,
     "metadata": {},
     "output_type": "execute_result"
    }
   ],
   "source": [
    "df1.title[1]"
   ]
  },
  {
   "cell_type": "code",
   "execution_count": 258,
   "metadata": {},
   "outputs": [],
   "source": [
    "#pip install nltk"
   ]
  },
  {
   "cell_type": "code",
   "execution_count": 259,
   "metadata": {},
   "outputs": [],
   "source": [
    "import string\n",
    "import nltk\n",
    "from nltk.tokenize import RegexpTokenizer\n",
    "from nltk.corpus import stopwords\n",
    "import re\n",
    "\n",
    "def preprocess(sentence):\n",
    "    sentence = sentence.lower()\n",
    "    tokenizer = RegexpTokenizer(r'\\w+')\n",
    "    tokens = tokenizer.tokenize(sentence)\n",
    "    filtered_words = [w for w in tokens if not w in stopwords.words('english')]\n",
    "    f= \" \".join(filtered_words)\n",
    "    \n",
    "    count = {} \n",
    "    for i in f.split(' '): \n",
    "        count[i] = count.get(i, 0) + 1\n",
    "    return count\n"
   ]
  },
  {
   "cell_type": "code",
   "execution_count": 260,
   "metadata": {},
   "outputs": [],
   "source": [
    "Req =\"la de un une crise  ou functionality  sauf de répercussions ?aaa sauf ,,\""
   ]
  },
  {
   "cell_type": "code",
   "execution_count": 261,
   "metadata": {},
   "outputs": [
    {
     "name": "stdout",
     "output_type": "stream",
     "text": [
      "{'debounce': 1, 'functionality': 1, 'working': 1, 'react': 1, 'app': 1, 'hooks': 1}\n",
      "{'goal': 1, 'fire': 2, 'fetch': 2, 'request': 2, 'get': 1, 'data': 1, 'api': 1, 'delay': 1, 'particular': 1, 'case': 1, 'input': 2, 'field': 1, 'user': 1, 'post': 1, 'id': 1, 'want': 1}\n",
      "{'la': 1, 'de': 2, 'un': 1, 'une': 1, 'crise': 1, 'ou': 1, 'functionality': 1, 'sauf': 2, 'répercussions': 1, 'aaa': 1}\n"
     ]
    }
   ],
   "source": [
    "title=preprocess(df1['title'][1])\n",
    "description=preprocess(df1['description'][1])\n",
    "requete=preprocess(Req)\n",
    "\n",
    "print(title)\n",
    "print(description)\n",
    "print(requete)"
   ]
  },
  {
   "cell_type": "code",
   "execution_count": 265,
   "metadata": {},
   "outputs": [],
   "source": [
    "\n",
    "def recherche(df1,requete):\n",
    "    c=preprocess(requete)\n",
    "    cont=0\n",
    "    listurl =[]\n",
    "    for i in range (0 , len(df1)):\n",
    "        \n",
    "        a=preprocess(df1.title[i])\n",
    "        b=preprocess(df1.description[i])\n",
    "  \n",
    "        for x in c.keys():\n",
    "             if x in (a.keys() or x in (b.keys())) :\n",
    "                listurl.append(df1.url[i])\n",
    "                \n",
    "                if c not in listurl :\n",
    "                    print( i,\"--\" ,df1.title[i])\n",
    "                    print(\"https://stackoverflow.com\" + df1.url[i])\n",
    "                    print(df1.description[i],\"\\n\",\"\\n\")\n",
    "                else :\n",
    "                    cont=+1\n",
    "                    \n",
    "       \n"
   ]
  },
  {
   "cell_type": "code",
   "execution_count": 266,
   "metadata": {},
   "outputs": [
    {
     "name": "stdout",
     "output_type": "stream",
     "text": [
      "1 -- Why my debounce functionality is not working in a React app with hooks?\n",
      "https://stackoverflow.com/questions/65457979/why-my-debounce-functionality-is-not-working-in-a-react-app-with-hooks\n",
      "My goal is to fire a fetch request to get data from an API after some delay. In my particular case, I have an input field where a user can input a post ID. I don't want fire a fetch request on each ... \n",
      " \n",
      "\n"
     ]
    }
   ],
   "source": [
    "Req1 =\"la de un une   ou functionality  sa,,\"\n",
    "recherche(df1,Req1)\n",
    "\n"
   ]
  },
  {
   "cell_type": "code",
   "execution_count": 267,
   "metadata": {},
   "outputs": [
    {
     "name": "stdout",
     "output_type": "stream",
     "text": [
      "1 -- Why my debounce functionality is not working in a React app with hooks?\n",
      "https://stackoverflow.com/questions/65457979/why-my-debounce-functionality-is-not-working-in-a-react-app-with-hooks\n",
      "My goal is to fire a fetch request to get data from an API after some delay. In my particular case, I have an input field where a user can input a post ID. I don't want fire a fetch request on each ... \n",
      " \n",
      "\n",
      "1 -- Why my debounce functionality is not working in a React app with hooks?\n",
      "https://stackoverflow.com/questions/65457979/why-my-debounce-functionality-is-not-working-in-a-react-app-with-hooks\n",
      "My goal is to fire a fetch request to get data from an API after some delay. In my particular case, I have an input field where a user can input a post ID. I don't want fire a fetch request on each ... \n",
      " \n",
      "\n",
      "1 -- Why my debounce functionality is not working in a React app with hooks?\n",
      "https://stackoverflow.com/questions/65457979/why-my-debounce-functionality-is-not-working-in-a-react-app-with-hooks\n",
      "My goal is to fire a fetch request to get data from an API after some delay. In my particular case, I have an input field where a user can input a post ID. I don't want fire a fetch request on each ... \n",
      " \n",
      "\n",
      "1 -- Why my debounce functionality is not working in a React app with hooks?\n",
      "https://stackoverflow.com/questions/65457979/why-my-debounce-functionality-is-not-working-in-a-react-app-with-hooks\n",
      "My goal is to fire a fetch request to get data from an API after some delay. In my particular case, I have an input field where a user can input a post ID. I don't want fire a fetch request on each ... \n",
      " \n",
      "\n",
      "47 -- getExternalFilesDir(Environment.DIRECTORY_PICTURES) not working in some Android 9 and 10 devices [duplicate]\n",
      "https://stackoverflow.com/questions/65457879/getexternalfilesdirenvironment-directory-pictures-not-working-in-some-android\n",
      "The below code shows the camera Intent and corresponding onActivityResult code. It works fine in most devices but in some Android 9 and Android 10 devices the var_Bitmap is null because the ... \n",
      " \n",
      "\n"
     ]
    }
   ],
   "source": [
    "Req1 =\"la de un une working  ou functionality  sauf de répercussions ?aaa sauf 'react app,,\"\n",
    "recherche(df1,Req1)"
   ]
  },
  {
   "cell_type": "code",
   "execution_count": null,
   "metadata": {},
   "outputs": [],
   "source": []
  }
 ],
 "metadata": {
  "kernelspec": {
   "display_name": "Python 3",
   "language": "python",
   "name": "python3"
  },
  "language_info": {
   "codemirror_mode": {
    "name": "ipython",
    "version": 3
   },
   "file_extension": ".py",
   "mimetype": "text/x-python",
   "name": "python",
   "nbconvert_exporter": "python",
   "pygments_lexer": "ipython3",
   "version": "3.8.5"
  }
 },
 "nbformat": 4,
 "nbformat_minor": 4
}
